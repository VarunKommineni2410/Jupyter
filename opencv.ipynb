{
 "cells": [
  {
   "cell_type": "code",
   "execution_count": 1,
   "id": "fe4c8a40",
   "metadata": {},
   "outputs": [
    {
     "name": "stdout",
     "output_type": "stream",
     "text": [
      "Requirement already satisfied: opencv-python in c:\\users\\admin\\anaconda3\\lib\\site-packages (4.6.0.66)\n",
      "Requirement already satisfied: numpy>=1.14.5 in c:\\users\\admin\\anaconda3\\lib\\site-packages (from opencv-python) (1.20.3)\n",
      "Note: you may need to restart the kernel to use updated packages.\n"
     ]
    }
   ],
   "source": [
    "pip install opencv-python"
   ]
  },
  {
   "cell_type": "code",
   "execution_count": 11,
   "id": "3bf60346",
   "metadata": {},
   "outputs": [],
   "source": [
    "import cv2\n",
    "import random\n",
    "import numpy as np"
   ]
  },
  {
   "cell_type": "code",
   "execution_count": 6,
   "id": "080d35e9",
   "metadata": {},
   "outputs": [
    {
     "name": "stdout",
     "output_type": "stream",
     "text": [
      "(500, 450, 3)\n"
     ]
    }
   ],
   "source": [
    "#reading and resizing\n",
    "#-1,0,1 represent different scales\n",
    "\n",
    "img=cv2.imread(\"logo.jpg\",1)\n",
    "img=cv2.resize(img,(450,500))\n",
    "print(img.shape)\n",
    "\n",
    "#opening and closing image\n",
    "\n",
    "cv2.imshow(\"one\",img)\n",
    "cv2.waitKey(0)\n",
    "cv2.destroyAllWindows()"
   ]
  },
  {
   "cell_type": "code",
   "execution_count": 27,
   "id": "58eff95b",
   "metadata": {},
   "outputs": [],
   "source": [
    "#rotate\n",
    "\n",
    "img=cv2.rotate(img,cv2.ROTATE_90_CLOCKWISE)\n",
    "cv2.imwrite(\"new.jpg\",img)\n",
    "\n",
    "cv2.imshow(\"one\",img)\n",
    "cv2.waitKey(0)\n",
    "cv2.destroyAllWindows()"
   ]
  },
  {
   "cell_type": "code",
   "execution_count": 28,
   "id": "49ae0ecf",
   "metadata": {},
   "outputs": [
    {
     "name": "stdout",
     "output_type": "stream",
     "text": [
      "(450, 500, 3)\n",
      "\n",
      "450\n",
      "500\n",
      "3\n"
     ]
    }
   ],
   "source": [
    "print(img.shape)\n",
    "print()\n",
    "\n",
    "print(img.shape[0]) #reprents row\n",
    "print(img.shape[1]) #reprents column\n",
    "print(img.shape[2]) #reprents channels\n"
   ]
  },
  {
   "cell_type": "code",
   "execution_count": 32,
   "id": "54bf976f",
   "metadata": {},
   "outputs": [],
   "source": [
    "#manpulating image\n",
    "\n",
    "img=cv2.imread(\"logo.jpg\",1)\n",
    "img=cv2.resize(img,(500,450))\n",
    "\n",
    "for i in range(50,100):\n",
    "    for j in range(img.shape[1]):\n",
    "        img[i,j]=[random.randrange(255),random.randrange(255),random.randrange(255)]\n",
    "\n",
    "        \n",
    "cv2.imshow(\"one\",img)\n",
    "cv2.waitKey(0)\n",
    "cv2.destroyAllWindows()\n"
   ]
  },
  {
   "cell_type": "code",
   "execution_count": 33,
   "id": "fa275f02",
   "metadata": {},
   "outputs": [],
   "source": [
    "#copy and pasting a part of a image\n",
    "\n",
    "new=img[:100,50:100]\n",
    "img[350:450,450:500]=new\n",
    "\n",
    "cv2.imshow(\"one\",img)\n",
    "cv2.waitKey(0)\n",
    "cv2.destroyAllWindows()\n"
   ]
  },
  {
   "cell_type": "code",
   "execution_count": 10,
   "id": "6848e0ef",
   "metadata": {},
   "outputs": [],
   "source": [
    "#Camera \n",
    "\n",
    "cap=cv2.VideoCapture(0) #open camera (0-random cam,1-first cam etc)\n",
    "\n",
    "while True:\n",
    "    \n",
    "    ret,frame=cap.read() #reading frame in cam\n",
    "    cv2.imshow(\"cam\",frame) #showing cam\n",
    "    \n",
    "    if cv2.waitKey(1)==ord(\"v\"): #closing if v(ASCII) value is matched checked every 1 milliseond\n",
    "        break\n",
    "        \n",
    "cap.release() # closing cam\n",
    "cv2.destroyAllWindows() "
   ]
  }
 ],
 "metadata": {
  "kernelspec": {
   "display_name": "Python 3 (ipykernel)",
   "language": "python",
   "name": "python3"
  },
  "language_info": {
   "codemirror_mode": {
    "name": "ipython",
    "version": 3
   },
   "file_extension": ".py",
   "mimetype": "text/x-python",
   "name": "python",
   "nbconvert_exporter": "python",
   "pygments_lexer": "ipython3",
   "version": "3.9.7"
  }
 },
 "nbformat": 4,
 "nbformat_minor": 5
}
