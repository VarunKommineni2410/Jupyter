{
 "cells": [
  {
   "cell_type": "code",
   "execution_count": 2,
   "metadata": {},
   "outputs": [],
   "source": [
    "import pandas as pd\n",
    "import numpy as np\n",
    "from sklearn.linear_model import LinearRegression"
   ]
  },
  {
   "cell_type": "code",
   "execution_count": 3,
   "metadata": {},
   "outputs": [
    {
     "name": "stdout",
     "output_type": "stream",
     "text": [
      "     name  math  cs\n",
      "0   david    92  98\n",
      "1   laura    56  68\n",
      "2  sanjay    88  81\n",
      "3     wei    70  80\n",
      "4    jeff    80  83\n",
      "5   aamir    49  52\n",
      "6  venkat    65  66\n",
      "7   virat    35  30\n",
      "8  arthur    66  68\n",
      "9    paul    67  73\n"
     ]
    }
   ],
   "source": [
    "data=pd.read_csv(\"test_scores.csv\")\n",
    "print(data)"
   ]
  },
  {
   "cell_type": "code",
   "execution_count": null,
   "metadata": {},
   "outputs": [],
   "source": [
    "x=np.array(data.math)\n",
    "y=np.array(data.cs)\n",
    "print(x)\n",
    "print(y)\n"
   ]
  },
  {
   "cell_type": "code",
   "execution_count": null,
   "metadata": {},
   "outputs": [],
   "source": [
    "def G_D(x,y):\n",
    "    m_curr=b_curr=0\n",
    "    iterations=1000000\n",
    "    learning=0.0002\n",
    "    n=len(x)\n",
    "    \n",
    "    \n",
    "    \n",
    "    for i in range(iterations):\n",
    "        y_pred=m_curr*x +b_curr\n",
    "        cost=(1/n)*sum([val**2 for val in (y-y_pred)])\n",
    "        md=-(2/n)*sum(x*(y-y_pred))\n",
    "        bd=-(2/n)*sum((y-y_pred))\n",
    "    \n",
    "        m_curr=m_curr-learning*md\n",
    "        b_curr=b_curr-learning*bd\n",
    "    \n",
    "        print(\"m= {} , b {} ,cost= {} ,iteration= {}\".format(m_curr,b_curr,cost,i))\n",
    "    \n",
    "G_D(x,y)"
   ]
  },
  {
   "cell_type": "code",
   "execution_count": 11,
   "metadata": {},
   "outputs": [
    {
     "name": "stdout",
     "output_type": "stream",
     "text": [
      "m:  [1.01773624]\n",
      "b:  1.9152193111569176\n"
     ]
    }
   ],
   "source": [
    "model=LinearRegression()\n",
    "model.fit(data[['math']],data['cs'])\n",
    "\n",
    "print(\"m: \",model.coef_)\n",
    "print(\"b: \",model.intercept_)\n"
   ]
  },
  {
   "cell_type": "code",
   "execution_count": null,
   "metadata": {},
   "outputs": [],
   "source": []
  }
 ],
 "metadata": {
  "kernelspec": {
   "display_name": "Python 3",
   "language": "python",
   "name": "python3"
  },
  "language_info": {
   "codemirror_mode": {
    "name": "ipython",
    "version": 3
   },
   "file_extension": ".py",
   "mimetype": "text/x-python",
   "name": "python",
   "nbconvert_exporter": "python",
   "pygments_lexer": "ipython3",
   "version": "3.8.5"
  }
 },
 "nbformat": 4,
 "nbformat_minor": 4
}
