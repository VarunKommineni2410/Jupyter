{
 "cells": [
  {
   "cell_type": "markdown",
   "id": "31ac8bef",
   "metadata": {},
   "source": [
    "# Linear Regression"
   ]
  },
  {
   "cell_type": "code",
   "execution_count": 1,
   "id": "6a27666c",
   "metadata": {},
   "outputs": [],
   "source": [
    "import pandas as pd\n",
    "import numpy as np\n",
    "from sklearn.linear_model import LinearRegression "
   ]
  },
  {
   "cell_type": "code",
   "execution_count": 83,
   "id": "1aac4dc3",
   "metadata": {},
   "outputs": [
    {
     "name": "stdout",
     "output_type": "stream",
     "text": [
      "   area   price\n",
      "0  2600  550000\n",
      "1  3000  565000\n",
      "2  3200  610000\n",
      "3  3600  680000\n",
      "4  4000  725000\n",
      "\n",
      "[[2600]\n",
      " [3000]\n",
      " [3200]\n",
      " [3600]\n",
      " [4000]]\n",
      "\n",
      "[550000 565000 610000 680000 725000]\n"
     ]
    }
   ],
   "source": [
    "d=pd.read_csv(\"homeprices.csv\")\n",
    "print(d)\n",
    "print()\n",
    "X=d[['area']].values #2d\n",
    "y=d['price'].values  #1d\n",
    "print(X)\n",
    "print()\n",
    "print(y)"
   ]
  },
  {
   "cell_type": "code",
   "execution_count": 89,
   "id": "283ceaa8",
   "metadata": {},
   "outputs": [
    {
     "name": "stdout",
     "output_type": "stream",
     "text": [
      "predicting price of 3300 AREA: \n",
      "[628715.75342466]\n"
     ]
    }
   ],
   "source": [
    "#model\n",
    "mod=LinearRegression()\n",
    "\n",
    "#fitting\n",
    "mod.fit(X,y)\n",
    "\n",
    "#predicting\n",
    "print(\"predicting price of 3300 AREA: \")\n",
    "print(mod.predict([[3300]]))"
   ]
  },
  {
   "cell_type": "code",
   "execution_count": 94,
   "id": "0f66129f",
   "metadata": {},
   "outputs": [
    {
     "name": "stdout",
     "output_type": "stream",
     "text": [
      "Acurracy: \n",
      "95.84301138199486 %\n"
     ]
    }
   ],
   "source": [
    "#acurracy\n",
    "\n",
    "a=mod.score(X,y)\n",
    "\n",
    "print(\"Acurracy: \")\n",
    "print(a*100,\"%\")"
   ]
  }
 ],
 "metadata": {
  "kernelspec": {
   "display_name": "Python 3 (ipykernel)",
   "language": "python",
   "name": "python3"
  },
  "language_info": {
   "codemirror_mode": {
    "name": "ipython",
    "version": 3
   },
   "file_extension": ".py",
   "mimetype": "text/x-python",
   "name": "python",
   "nbconvert_exporter": "python",
   "pygments_lexer": "ipython3",
   "version": "3.9.13"
  }
 },
 "nbformat": 4,
 "nbformat_minor": 5
}
