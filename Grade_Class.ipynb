{
 "cells": [
  {
   "cell_type": "code",
   "execution_count": 1,
   "id": "002f1c8a",
   "metadata": {},
   "outputs": [],
   "source": [
    "import pandas as pd\n",
    "import numpy as np"
   ]
  },
  {
   "cell_type": "code",
   "execution_count": 2,
   "id": "cfc3a6e5",
   "metadata": {},
   "outputs": [
    {
     "name": "stdout",
     "output_type": "stream",
     "text": [
      "      Name  Rollno Grade  CGPA\n",
      "0    varun       1     A   8.5\n",
      "1  sharath       2     O   9.0\n",
      "2  ashrith       3     O   9.5\n",
      "3   suhaas       4     A   8.6\n",
      "4    indra       5     D   5.9\n",
      "5  vikrant       6     B   7.8\n",
      "6    bhanu       7     A   8.4\n",
      "7   vineet       8     B   8.8\n",
      "8   neeraj       9     D   5.8\n",
      "9   charan      10     C   6.9\n"
     ]
    }
   ],
   "source": [
    "d=pd.read_csv(\"Rank.csv\")\n",
    "print(d)"
   ]
  },
  {
   "cell_type": "code",
   "execution_count": 3,
   "id": "d7cb8df0",
   "metadata": {},
   "outputs": [
    {
     "name": "stdout",
     "output_type": "stream",
     "text": [
      "      Name  Rollno Grade  CGPA       Type\n",
      "0    varun       1     A   8.5  Above Avg\n",
      "1  sharath       2     O   9.0     Topper\n",
      "2  ashrith       3     O   9.5     Topper\n",
      "3   suhaas       4     A   8.6  Above Avg\n",
      "4    indra       5     D   5.9     Genius\n",
      "5  vikrant       6     B   7.8  Below Avg\n",
      "6    bhanu       7     A   8.4  Above Avg\n",
      "7   vineet       8     B   8.8  Above Avg\n",
      "8   neeraj       9     D   5.8     Genius\n",
      "9   charan      10     C   6.9     Genius\n"
     ]
    }
   ],
   "source": [
    "d.loc[d['CGPA']>=9.0 ,\"Type\"]=\"Topper\"\n",
    "d.loc[(d['CGPA']>=8.0) & (d['CGPA']<9.0),\"Type\"]=\"Above Avg\"\n",
    "d.loc[(d['CGPA']>=7.0) & (d['CGPA']<8.0),\"Type\"]=\"Below Avg\"\n",
    "d.loc[d['CGPA']<7.0,\"Type\"]=\"Genius\"\n",
    "\n",
    "print(d)"
   ]
  },
  {
   "cell_type": "code",
   "execution_count": 7,
   "id": "2d93f048",
   "metadata": {},
   "outputs": [
    {
     "name": "stdout",
     "output_type": "stream",
     "text": [
      "0        NaN\n",
      "1    sharath\n",
      "2    ashrith\n",
      "3        NaN\n",
      "4        NaN\n",
      "5        NaN\n",
      "6        NaN\n",
      "7        NaN\n",
      "8        NaN\n",
      "9        NaN\n",
      "Name: Topper, dtype: object\n",
      "0     varun\n",
      "1       NaN\n",
      "2       NaN\n",
      "3    suhaas\n",
      "4       NaN\n",
      "5       NaN\n",
      "6     bhanu\n",
      "7    vineet\n",
      "8       NaN\n",
      "9       NaN\n",
      "Name: Above Avg, dtype: object\n",
      "0        NaN\n",
      "1        NaN\n",
      "2        NaN\n",
      "3        NaN\n",
      "4        NaN\n",
      "5    vikrant\n",
      "6        NaN\n",
      "7        NaN\n",
      "8        NaN\n",
      "9        NaN\n",
      "Name: Below Avg, dtype: object\n",
      "0       NaN\n",
      "1       NaN\n",
      "2       NaN\n",
      "3       NaN\n",
      "4     indra\n",
      "5       NaN\n",
      "6       NaN\n",
      "7       NaN\n",
      "8    neeraj\n",
      "9    charan\n",
      "Name: Genius, dtype: object\n"
     ]
    }
   ],
   "source": [
    "d.loc[d[\"Type\"]==\"Topper\",\"Topper\"]=d[\"Name\"]\n",
    "d.loc[d[\"Type\"]==\"Above Avg\",\"Above Avg\"]=d[\"Name\"]\n",
    "d.loc[d[\"Type\"]==\"Below Avg\",\"Below Avg\"]=d[\"Name\"]\n",
    "d.loc[d[\"Type\"]==\"Genius\",\"Genius\"]=d[\"Name\"]\n",
    "\n",
    "print(d[\"Topper\"])\n",
    "print(d[\"Above Avg\"])\n",
    "print(d[\"Below Avg\"])\n",
    "print(d[\"Genius\"])"
   ]
  },
  {
   "cell_type": "code",
   "execution_count": 5,
   "id": "50b4d8ef",
   "metadata": {},
   "outputs": [],
   "source": [
    "t=d[\"Topper\"].dropna()\n",
    "a_a=d[\"Above Avg\"].dropna()\n",
    "b_a=d[\"Below Avg\"].dropna()\n",
    "g=d[\"Genius\"].dropna()\n"
   ]
  },
  {
   "cell_type": "code",
   "execution_count": 6,
   "id": "156a15e8",
   "metadata": {},
   "outputs": [
    {
     "name": "stdout",
     "output_type": "stream",
     "text": [
      "Topper: \n",
      "1    sharath\n",
      "2    ashrith\n",
      "Name: Topper, dtype: object\n",
      "\n",
      "Above Avg: \n",
      "0     varun\n",
      "3    suhaas\n",
      "6     bhanu\n",
      "7    vineet\n",
      "Name: Above Avg, dtype: object\n",
      "\n",
      "Below Avg: \n",
      "5    vikrant\n",
      "Name: Below Avg, dtype: object\n",
      "\n",
      "Genius: \n",
      "4     indra\n",
      "8    neeraj\n",
      "9    charan\n",
      "Name: Genius, dtype: object\n"
     ]
    }
   ],
   "source": [
    "print(\"Topper: \")\n",
    "print(t)\n",
    "print()\n",
    "print(\"Above Avg: \")\n",
    "print(a_a)\n",
    "print()\n",
    "print(\"Below Avg: \")\n",
    "print(b_a)\n",
    "print()\n",
    "print(\"Genius: \")\n",
    "print(g)"
   ]
  }
 ],
 "metadata": {
  "kernelspec": {
   "display_name": "Python 3 (ipykernel)",
   "language": "python",
   "name": "python3"
  },
  "language_info": {
   "codemirror_mode": {
    "name": "ipython",
    "version": 3
   },
   "file_extension": ".py",
   "mimetype": "text/x-python",
   "name": "python",
   "nbconvert_exporter": "python",
   "pygments_lexer": "ipython3",
   "version": "3.9.7"
  }
 },
 "nbformat": 4,
 "nbformat_minor": 5
}
